{
 "cells": [
  {
   "cell_type": "markdown",
   "id": "767c66e9",
   "metadata": {},
   "source": [
    "# Homework 3 — Subsetting and Plotting Data: Understanding Time Use\n",
    " \n"
   ]
  },
  {
   "cell_type": "markdown",
   "id": "4c621ab2",
   "metadata": {},
   "source": [
    "# Introduction\n",
    "\n",
    "For this week's homework, we are going to continue to work with the Statistics Canada GSS Time Use Dataset. This time we're going to dig into some of the well-being variables (feeling rushed) and respondent characteristic variables (how people commute to work).\n",
    "\n",
    "\n",
    "# Question\n",
    "\n",
    "The question you're answering in this homework:\n",
    "\n",
    "> Do urban resident respondents who drive a car to commute (either some or all of the time) feel less rushed than those respondents who don't drive a car for commuting?"
   ]
  },
  {
   "cell_type": "markdown",
   "id": "25dc74e5",
   "metadata": {},
   "source": [
    "# Lab Instructions and Learning Objectives\n",
    "\n",
    "Just like in the previous homework, you will be creating and submitting a data story answering a data science question. You will be required to submit your work in the same format as last time, complete with sections for *Introduction*, *Data*, *Methods*, *Computation*, and *Conclusion*.\n",
    "\n",
    "In this lab, you will:\n",
    "* Create a data story in a notebook exploring the question.\n",
    "* Work with the Time Use dataset from lecture to investigate if commuting by car affects feelings of being rushed.\n",
    "* Write and use Boolean expressions to focus on specific observations in our dataset. (That means subsetting `DataFrame`s using `.loc` and `.iloc`).\n",
    "* Create and name new columns, and use Boolean expressions to assign new values based on values in existing columns.\n",
    "* Produce and interpret a crosstabulation table to compare how respondents in two different categories differ based on two other Boolean variables. \n",
    "* Plot the results of your crosstabulation, and use the visualization to describe general trends.\n"
   ]
  },
  {
   "cell_type": "markdown",
   "id": "2b677ef1",
   "metadata": {},
   "source": [
    "# Due date \n",
    "\n",
    "You will submit your completed Homework 3 on MarkUs by *Mon, Jan 31 2021 at 11:59 PM EST*. We will send an announcement in a couple days when autotesting has been set up on MarkUs."
   ]
  },
  {
   "cell_type": "markdown",
   "id": "2d10a0a3",
   "metadata": {},
   "source": [
    "# GGR: How to submit\n",
    "\n",
    "1. Download your homework to your local computer and save it as `GGR274_Homework_3.ipynb`.\n",
    "2. Log in here: https://markus-ds.teach.cs.toronto.edu.\n",
    "3. Submit your homework to `HW3: Homework 3`."
   ]
  },
  {
   "cell_type": "markdown",
   "id": "c9549322",
   "metadata": {},
   "source": [
    "# Marking Rubric\n",
    "\n",
    "\n",
    "Section     | 0 | 1 | 2 | 3\n",
    "------------|---|---|---|---\n",
    "Introduction|The question is not stated correctly or left blank | The question is stated correctly | NA | NA \n",
    "Data (for each python variable)       |auto test fails | auto test passes | NA | NA \n",
    "Methods (for each part) | No answer | The data extracted is specified or a reasonable rationale is given, but not both | Both the data extracted is specified and a reasonable rationale is given | NA\n",
    "Computation |auto test fails | auto test passes | NA | NA \n",
    "Conclusion (for each part) | No answer | The question is answered but no explanation is given | The question is answered but the explanation is not supported or weakly supported by the data | The question is answered and the explanation is supported by the data \n",
    "\n",
    "Maximum grade: **35**\n"
   ]
  },
  {
   "cell_type": "markdown",
   "id": "e9d60469",
   "metadata": {},
   "source": [
    "# Introduction section\n",
    "\n",
    "This should introduce the question being explored in a sentence. __(1 mark)__"
   ]
  },
  {
   "cell_type": "markdown",
   "id": "b9e76f60",
   "metadata": {},
   "source": [
    "# Data section\n",
    "\n",
    "The `Data` part of your notebook should read the raw data, extract a `DataFrame` containing the important columns, and present the overall data. Create at least these three variables. (You might find it helpful to create other variables to name intermediate values.)\n",
    "\n",
    "+ `time_use_data_raw`: the `DataFrame` created by reading the `gss_tu2016_main_file.csv` file. __(1 mark)__\n",
    "+ `time_use_data`: the `DataFrame` containing only the relevant columns from the raw data: the `'CASEID'`, `'luc_rst'`, `'gtu_110'`, and `'ctw_140a'`, columns. __(1 mark)__\n",
    "+ `new_column_names`: the dictionary mapping the column names from `time_use_data` to the values `'case_ID'`, `'urban_rural'`, `'feeling_rushed'`, and `'commute_driver'`, respectively. __(1 mark)__\n",
    "+ `clean_time_use_data`: the `DataFrame` that is the result of renaming the columns in `time_use_data`, using the dictionary `new_column_names`. (We will not autotest this `DataFrame` until you have added columns, as described below.)\n",
    "\n",
    "\n",
    "We will check the value of these variables in the autotester. You'll probably want to use a few other variables along the way for the intermediate steps, like naming a list of important columns, but we're not autotesting those.\n",
    "\n",
    "The `Data` part of your notebook should read the raw data, extract a `DataFrame` containing the important columns, and present the overall data. Make sure to select the columns in the order as specified above.\n",
    "\n",
    "Here is some code for you to use to check your variable values. Copy and paste these cells into your notebook at the end of the appropriate section. For example, these print statements should go in a cell at the end of the Data section:"
   ]
  },
  {
   "cell_type": "code",
   "execution_count": null,
   "id": "5d55d227",
   "metadata": {},
   "outputs": [],
   "source": [
    "# Data check\n",
    "print(\"time_use_data_raw:\")\n",
    "print(time_use_data_raw)\n",
    "print(\"time_use_data:\")\n",
    "print(time_use_data)\n",
    "print(\"new_column_names:\")\n",
    "print(new_column_names)\n",
    "print(\"clean_time_use_data:\")\n",
    "print(clean_time_use_data)"
   ]
  },
  {
   "cell_type": "markdown",
   "id": "37704ea8",
   "metadata": {},
   "source": [
    "# Methods section\n",
    "\n",
    "Start with a Markdown cell describing what you're going to do, which is:\n",
    "\n",
    "1. Filter the data (make a new `DataFrame` containing a subset of the rows) to include only urban respondents. What variable in our dataset contains this information? Why are we interested in this subset? Explain in a few sentences. __(2 marks)__\n",
    "2. Create a new column that codes whether or not someone feels rushed more often than once a week. What values does this new column rely upon, what does each value represent, and what is its Python type? __(2 marks)__\n",
    "3. Create a new variable that codes whether or not someone has reported to have driven a car to work. What values does this new column take, what does each value represent, and what is the Python type? __(2 marks)__\n",
    "4. Compare how many respondents feel rushed more than at least once a week, for the group of respondents who do not commute by car vs. those who do. What data are we using, and why? Explain in a few sentences. __(2 marks)__\n",
    "5. Use a visualization to describe your results in 4.  What visualization is most appropriate, and why? How would this visualization be interpreted? Explain in a few sentences. __(2 marks)__"
   ]
  },
  {
   "cell_type": "markdown",
   "id": "50eb2a26",
   "metadata": {},
   "source": [
    "# Computation section\n",
    "\n",
    "There are a few sections to this, as outlined in the Methods. First, you will subset your dataset for urban respondents. Then you'll add a column that indicates whether a respondent feels rushed more often than once a week, and another column that indicates whether a respondent commutes via car. Finally, we will analyze whether respondents who commute via car feel rushed more often than those who do not commute via car."
   ]
  },
  {
   "cell_type": "markdown",
   "id": "af5b2699",
   "metadata": {},
   "source": [
    "## Subset Data\n",
    "\n",
    "First, let's subset our data to include only respondents who live in Urban areas. \n",
    "\n",
    "Create these variables along the way. We will check them in the autotester. We will not check your intermediate steps.\n",
    "\n",
    "+ `urban_respondents_only`: a Boolean `Series` that is `True` when a respondent lives in an Urban area, and `False` otherwise. __(1 mark)__ \n",
    "    * Hint: you might want to refer to Lecture 3 or the dataset codebook to determine which values correspond to a respondent in an Urban area\n",
    "+ `urban_subset_time_use`: a `DataFrame` that contains only Urban respondents. __(1 mark)__\n",
    "\n"
   ]
  },
  {
   "cell_type": "code",
   "execution_count": null,
   "id": "ee19bafd",
   "metadata": {},
   "outputs": [],
   "source": [
    "# Subest Data check\n",
    "print(\"urban_respondents_only:\")\n",
    "print(urban_respondents_only)\n",
    "print(\"urban_subset_time_use:\")\n",
    "print(urban_subset_time_use)"
   ]
  },
  {
   "cell_type": "markdown",
   "id": "51dc4bf4",
   "metadata": {},
   "source": [
    "## Create new columns\n",
    "\n",
    "Let's add two new columns to our dataset of urban respondents. These columns will contain Boolean values.\n",
    "\n",
    "Create the following variables along the way. We will check them in the autotester. We will not check your intermediate steps."
   ]
  },
  {
   "cell_type": "markdown",
   "id": "b408c875",
   "metadata": {},
   "source": [
    "### Feeling rushed\n",
    "\n",
    "+ `feels_rushed_true`: a Boolean `Series` that is `True` when a respondent feels rushed at least once a week, and `False` otherwise.  __(1 mark)__\n",
    "+ `feels_rushed_false`: a Boolean `Series` that is `True` when a respondent feels rushed less often than once a week, and `False` otherwise. __(1 mark)__\n",
    "\n",
    "Use those two variables to create a new column called `'feels_rushed_YN'` in `urban_subset_time_use` that is `True` when a respondent feels rushed at least once a week and `False` otherwise."
   ]
  },
  {
   "cell_type": "code",
   "execution_count": null,
   "id": "874f2dc5",
   "metadata": {},
   "outputs": [],
   "source": [
    "# Feeling rushed check\n",
    "print(\"feels_rushed_true:\")\n",
    "print(feels_rushed_true)\n",
    "print(\"feels_rushed_false:\")\n",
    "print(feels_rushed_false)\n",
    "clean_time_use_data"
   ]
  },
  {
   "cell_type": "markdown",
   "id": "04a78767",
   "metadata": {},
   "source": [
    "### Commute by car\n",
    "\n",
    "+ `commute_car_true`: a Boolean `Series` that is `True` when a respondent has indicated that they commute via car, and `False` otherwise.  __(1 mark)__\n",
    "+ `commute_car_false`: a Boolean `Series` that is `True` when a respondent has indicated that they do NOT commute via car, and `False` otherwise. __(1 mark)__\n",
    "\n",
    "Use those two variables to create a new column in `clean_time_use_data` called `'commute_car_YN'` that is `True` when a respondent has commuted via car and `False` otherwise.\n",
    "\n",
    "In the autotester, we will examine `urban_subset_time_use` after both columns have been added. __(1 mark)__"
   ]
  },
  {
   "cell_type": "code",
   "execution_count": null,
   "id": "20aa9796",
   "metadata": {},
   "outputs": [],
   "source": [
    "# Commute by car check\n",
    "print(\"commute_car_true:\")\n",
    "print(commute_car_true)\n",
    "print(\"commute_car_false:\")\n",
    "print(commute_car_false)\n",
    "clean_time_use_data"
   ]
  },
  {
   "cell_type": "markdown",
   "id": "90656ad6",
   "metadata": {},
   "source": [
    "## Create a crosstabulation\n",
    "\n",
    "Let's create a crosstabulation to compare respondents between our two new columns, `'feels_rushed_YN'` and `'commute_car_YN'`.\n",
    "\n",
    "Create the following variables along the way. We will check them in the autotester. We will not check your intermediate steps.\n",
    "\n",
    "+ `columns_to_crosstab`: a `DataFrame` that contains only the columns `'feels_rushed_YN'` and `'commute_car_YN'` extracted from `clean_time_use_data`. __(1 mark)__\n",
    "+ `feels_rushed_commute_car_crosstab`: a crosstabulation, using the columns in `columns_to_crosstab`. __(1 mark)__\n"
   ]
  },
  {
   "cell_type": "code",
   "execution_count": null,
   "id": "e99ae054",
   "metadata": {},
   "outputs": [],
   "source": [
    "# Crosstabulation check\n",
    "print(\"columns_to_crosstab: \")\n",
    "print(columns_to_crosstab)\n",
    "print(\"feels_rushed_commute_car_crosstab: \")\n",
    "print(feels_rushed_commute_car_crosstab)"
   ]
  },
  {
   "cell_type": "markdown",
   "id": "0d4006a1",
   "metadata": {},
   "source": [
    "## Plot your results\n",
    "\n",
    "Finally, we can visually analyze the results of the crosstabulation. \n",
    "\n",
    "Create a bar plot of the `feels_rushed_commute_car_crosstab` crosstabulation using `.plot.bar()` and name it `crosstab_barplot`. __(1 mark)__ \n",
    "\n"
   ]
  },
  {
   "cell_type": "code",
   "execution_count": null,
   "id": "4dfa0b43",
   "metadata": {},
   "outputs": [],
   "source": [
    "print(\"crosstab_barplot: \")\n",
    "print(crosstab_barplot)"
   ]
  },
  {
   "cell_type": "markdown",
   "id": "2b240bce",
   "metadata": {},
   "source": [
    "# Conclusion\n",
    "\n",
    "Include cells with your answers to each of these questions:\n",
    " \n",
    "1. Do respondents who commute via car feel rushed more often than those who don't commute by car? Briefly explain. (__3 marks__)\n",
    "2. What do the values in the crosstabulation represent? Use these values and your visualization to draw at least one conclusion about the relationship between commuting and feeling rushed.  Briefly explain how you arrived at your conclusions. __(3 marks)__\n",
    "3. Think about what aspects of commuting can lead a person to 'feel rushed'. Propose two or three specific potential causes for car and/or non-car commuters. __(3 marks)__"
   ]
  },
  {
   "cell_type": "markdown",
   "id": "7bebdb98",
   "metadata": {},
   "source": [
    "# BEFORE YOU SUBMIT: rerun your whole notebook!\n",
    "\n",
    "Before you submit, re-run all the Code cells in your notebook from top to bottom and read the output carefully to make sure there are no unexpected errors."
   ]
  }
 ],
 "metadata": {
  "kernelspec": {
   "display_name": "Python 3 (ipykernel)",
   "language": "python",
   "name": "python3"
  },
  "language_info": {
   "codemirror_mode": {
    "name": "ipython",
    "version": 3
   },
   "file_extension": ".py",
   "mimetype": "text/x-python",
   "name": "python",
   "nbconvert_exporter": "python",
   "pygments_lexer": "ipython3",
   "version": "3.8.8"
  }
 },
 "nbformat": 4,
 "nbformat_minor": 5
}
